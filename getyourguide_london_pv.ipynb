{
 "cells": [
  {
   "cell_type": "code",
   "execution_count": 1,
   "id": "80f5baaa",
   "metadata": {},
   "outputs": [],
   "source": [
    "from selenium import webdriver\n",
    "from selenium.webdriver.common.by import By\n",
    "import random"
   ]
  },
  {
   "cell_type": "code",
   "execution_count": 2,
   "id": "45135414",
   "metadata": {},
   "outputs": [],
   "source": [
    "USER_AGENT_LIST = ['Mozilla/5.0 (Macintosh; Intel Mac OS X 10_15_7) AppleWebKit/537.36 (KHTML, like Gecko) Chrome/114.0.0.0 Safari/537.36']\n",
    "DRIVER_FILE_PATH = \"/Users/qunishdash/Documents/chromedriver_mac64/chromedriver\""
   ]
  },
  {
   "cell_type": "code",
   "execution_count": 3,
   "id": "ccf332b3",
   "metadata": {},
   "outputs": [],
   "source": [
    "def get_chrome_driver(headless_flag):\n",
    "    # Set up the Selenium webdriver\n",
    "    from selenium import webdriver\n",
    "    from selenium.webdriver.chrome.options import Options\n",
    "    from selenium.webdriver.chrome.service import Service\n",
    "\n",
    "    service = Service(executable_path=DRIVER_FILE_PATH)\n",
    "    chrome_options = Options()\n",
    "    \n",
    "    if headless_flag:\n",
    "        # in case you want headless browser  \n",
    "        chrome_options.add_argument(\"--headless\")\n",
    "        chrome_options.add_argument(\"--disable-extensions\")\n",
    "        chrome_options.add_argument(\"--disable-gpu\")\n",
    "        chrome_options.add_argument(\"--no-sandbox\")\n",
    "        chrome_options.add_argument(\"--start-maximized\")\n",
    "        chrome_options.add_argument(\"user-agent={}\".format(random.choice(USER_AGENT_LIST)))\n",
    "    \n",
    "    driver = webdriver.Chrome(service=service, options=chrome_options) \n",
    "\n",
    "    return driver"
   ]
  },
  {
   "cell_type": "code",
   "execution_count": 4,
   "id": "59d77a8f",
   "metadata": {},
   "outputs": [],
   "source": [
    "driver = get_chrome_driver(False)"
   ]
  },
  {
   "cell_type": "code",
   "execution_count": 5,
   "id": "06eb26f2-6355-4f17-8672-ef540078c954",
   "metadata": {},
   "outputs": [],
   "source": [
    "import pymongo\n",
    "\n",
    "client = pymongo.MongoClient(\"mongodb://localhost:27017/\")\n",
    "db = client[\"getyourguide_data_db\"]\n",
    "collection = db[\"london\"]"
   ]
  },
  {
   "cell_type": "code",
   "execution_count": 6,
   "id": "fdaf89f8-0a78-4354-a018-9ca20dbf180c",
   "metadata": {},
   "outputs": [],
   "source": [
    "from selenium.webdriver.common.by import By\n",
    "def get_product_data(url):\n",
    "\n",
    "    driver.get(url)\n",
    "    try:\n",
    "        activity_overview = driver.find_element(By.XPATH, '//*[@id=\"activity-overview\"]/p').text.replace(\"\\n\", \" \")\n",
    "    except Exception as e:\n",
    "        activity_overview = ''\n",
    "        print(e)\n",
    "    try:\n",
    "        activity_details = driver.find_element(By.XPATH, '//*[@id=\"key-details\"]/section/dl').text.replace(\"\\n\", \" \")\n",
    "    except Exception as e:\n",
    "        activity_details = ''\n",
    "    try:\n",
    "        activity_experience = driver.find_element(By.XPATH, '//*[@id=\"activity-experience\"]').text.replace(\"\\n\", \" \")\n",
    "    except Exception as e:\n",
    "        activity_experience = ''\n",
    "    try:\n",
    "        activity_meeting_point = driver.find_element(By.XPATH, '//*[@id=\"preparation-info\"]/section[1]/div/div[2]/p').text.replace(\"\\n\", \" \")\n",
    "    except Exception as e:\n",
    "        activity_meeting_point = ''\n",
    "    try:\n",
    "        activity_important_information = driver.find_element(By.XPATH, '//*[@id=\"section--important-information\"]/div/div[2]/div/section').text.replace(\"\\n\", \" \")\n",
    "    except Exception as e:\n",
    "        activity_important_information = ''\n",
    "    try:\n",
    "        activity_review_summary = driver.find_element(By.XPATH, '//*[@id=\"customer-reviews\"]/section/div/div[2]/ul').text.replace(\"\\n\", \" \")\n",
    "    except Exception as e:\n",
    "        activity_review_summary = ''\n",
    "\n",
    "    try:\n",
    "        activity_provider = driver.find_element(By.XPATH, '//*[@id=\"main-content\"]/section/section[1]/section[4]/div/div/section/div/a').text.replace(\"\\n\", \" \")\n",
    "    except Exception as e:\n",
    "        activity_provider = ''\n",
    "\n",
    "\n",
    "    # Create a dictionary with the scraped data\n",
    "    product_data = {\n",
    "        \"activity_url\": url,\n",
    "        \"activity_overview\": activity_overview,\n",
    "        \"activity_details\": activity_details,\n",
    "        \"activity_experience\": activity_experience,\n",
    "        \"activity_meeting_point\": activity_meeting_point,\n",
    "        \"activity_important_information\": activity_important_information,\n",
    "        \"activity_review_summary\": activity_review_summary,\n",
    "        \"activity_provider\": activity_provider\n",
    "    }\n",
    "    \n",
    "    return product_data"
   ]
  },
  {
   "cell_type": "code",
   "execution_count": 7,
   "id": "0793dc79-eb5c-4c24-adb6-a5805d728413",
   "metadata": {},
   "outputs": [
    {
     "name": "stdout",
     "output_type": "stream",
     "text": [
      "Data upserted into MongoDB successfully.\n"
     ]
    }
   ],
   "source": [
    "import pandas as pd\n",
    "\n",
    "if __name__ == \"__main__\":\n",
    "    \n",
    "    # Fetch product URLs from MongoDB\n",
    "    result = collection.find({}, {\"onClickLink\": 1,'_id':0})\n",
    "    result = list(result)\n",
    "    pv_urls = [\"https://www.getyourguide.com\" + item['onClickLink']['link'] for item in result]\n",
    "    \n",
    "    # Define a list to store scraped data\n",
    "    scraped_data_list = []\n",
    "\n",
    "    # Scrape data for each URL and store it in the 'scraped_data_list'\n",
    "    for url in pv_urls:\n",
    "        data = get_product_data(url)\n",
    "        data[\"activity_url\"] = url  # Add the 'activity_url' key to the data dictionary\n",
    "        scraped_data_list.append(data)\n",
    "\n",
    "    # Upsert the data into MongoDB based on the 'onClickLink' URLs:\n",
    "    try:\n",
    "        for data in scraped_data_list:\n",
    "            pv_collection = \"london_pv\"\n",
    "            pvcollection = db[pv_collection]\n",
    "            url = data[\"activity_url\"]  # Fetch the URL from the correct location in the data dictionary\n",
    "            del data[\"activity_url\"]  # Remove the 'activity_url' key as it's not part of the update\n",
    "            pvcollection.update_one({\"activity_url\": url}, {\"$set\": data}, upsert=True)\n",
    "        print(\"Data upserted into MongoDB successfully.\")\n",
    "    except Exception as e:\n",
    "        print(\"Error while upserting data into MongoDB:\", e)"
   ]
  },
  {
   "cell_type": "code",
   "execution_count": 8,
   "id": "98079873-381f-464b-afa5-705d137e672c",
   "metadata": {},
   "outputs": [],
   "source": [
    "# Close the MongoDB connection\n",
    "client.close()"
   ]
  },
  {
   "cell_type": "code",
   "execution_count": 10,
   "id": "318678d0-6315-4107-ace7-88a84b15bfef",
   "metadata": {},
   "outputs": [
    {
     "name": "stdout",
     "output_type": "stream",
     "text": [
      "[{'activity_overview': \"Take a high-speed adventure through the heart of London and then enjoy a guided tour past some great sights like the Tower of London, Tower Bridge, and St. Paul's Cathedral.\", 'activity_details': 'Free cancellation Cancel up to 24 hours in advance for a full refund Reserve now & pay later Keep your travel plans flexible — book your spot and pay nothing today. Covid-19 precautions Special health and safety measures are in place. Check your activity voucher once you book for full details. Duration 45 minutes Check availability to see starting times. Live tour guide English', 'activity_experience': \"Experience Highlights Blast through London's historic sights fthen a cruise with tour guide Cruise under the iconic Tower Bridge for the selfie of all selfies! Enjoy your friendly crew showing you London at its best Marvel at sights like the Cutty Sark, St. Paul's Cathedral, or Tower of London Full description Meet your friendly skipper and crew at Tower Bridge Quay and collect your waterproof jacket, along with the latest automatic inflatable life jacket. Listen to the safety briefing before you board the power boat and sit in the state-of-the-art suspension seats.    Listen to the 550hp turbo diesel engines fire up to take you past monuments such as the Tate Modern, Millennium Bridge, Shakespeare's Globe and St. Paul's Cathedral. Head towards London Bridge and the HMS Belfast warship as you make your way towards the Tower of London.  Take souvenir photos as you pass under Tower Bridge. Then, hold on tight as you enter the high speed zone and race through the Wapping district at 35mph. Pass the skyscrapers of Canary Wharf as you speed down to the Royal Naval College and Cutty Sark in Greenwich. Continue to the O2 Arena (formerly the Millennium Dome) before turning around and returning to Tower Bridge Quay.  Listen to some great British music throughout the ride for a trip to remember. Includes 50-minute trip, with at least 30 minutes at high speed. Speed limits apply in the city center Waterproof jackets with hoods Eye protection, if required Automatic inflatable life jackets. Life jackets for children are available High-quality suspension seating to protect from the shock impacts and vibrations Refreshments\", 'activity_meeting_point': 'Board the boat at Tower Bridge Quay (formerly St Katharine Pier). The pier is directly in front of the entrance to the Tower Hotel. The nearest tube station is Tower Hill. By taxi, asked to be dropped at the entrance to Tower Hotel.', 'activity_important_information': 'Boat rides are available 7 days a week The standard suspension seats can accommodate passengers over 5 foot (1.5 meters) tall There are limited seats available for those over 4 foot 6 inches (1.4 meters) tall', 'activity_review_summary': 'Guide 5/5 Transportation 4.9/5 Service 4.9/5 Organization 4.9/5', 'activity_provider': 'Thames Tigers'}, {'activity_overview': \"Visit 4 iconic pubs in London's famous Soho area where legends such as The Beatles, The Rolling Stones, Mozart, Jimi Hendrix, Casanova, David Bowie, Marilyn Monroe, and more all hung out.\", 'activity_details': 'Free cancellation Cancel up to 24 hours in advance for a full refund Reserve now & pay later Keep your travel plans flexible — book your spot and pay nothing today. Covid-19 precautions Special health and safety measures are in place. Check your activity voucher once you book for full details. Duration 2.5 hours Check availability to see starting times. Live tour guide English', 'activity_experience': 'Experience Highlights Explore London’s most infamous and interesting area Taste British beer in four iconic hidden London pubs Drink where John Lennon, David Bowie, and Elton John used to drink See where Jimi Hendrix played his first and last gigs in London See where Dumbledore had a fist fight in a pub where famous actors like to drink Full description Beginning at the world-famous Piccadilly Circus, your guide will introduce themselves and give you a brief introduction. From there you’ll start the journey into the infamous Soho area.  Includes Tour guide Walking tour Food and drinks Tips (optional) Not suitable for Pregnant women Wheelchair users Children under 18 years', 'activity_meeting_point': 'Meet your guide at Piccadilly Circus, at the winged statue of Eros (the only statue there). Your guide will be waiting for you with an open umbrella, directly beside the statue.', 'activity_important_information': 'Passport or ID card Comfortable shoes Cash Weather-appropriate clothing', 'activity_review_summary': 'Guide 5/5 Value for money 4.9/5 Service 4.7/5 Organization 4.5/5', 'activity_provider': 'Experience Local Ltd'}]\n"
     ]
    }
   ],
   "source": [
    "print(scraped_data_list[:2])"
   ]
  },
  {
   "cell_type": "code",
   "execution_count": 11,
   "id": "fd5ca5fb-93ca-41b2-93be-204e1fb2f264",
   "metadata": {},
   "outputs": [],
   "source": [
    "# Close the WebDriver after processing all URLs\n",
    "driver.quit()"
   ]
  },
  {
   "cell_type": "code",
   "execution_count": null,
   "id": "a48022f2-971d-4c02-9d6e-4313fbbbc02c",
   "metadata": {},
   "outputs": [],
   "source": []
  }
 ],
 "metadata": {
  "kernelspec": {
   "display_name": "Python 3 (ipykernel)",
   "language": "python",
   "name": "python3"
  },
  "language_info": {
   "codemirror_mode": {
    "name": "ipython",
    "version": 3
   },
   "file_extension": ".py",
   "mimetype": "text/x-python",
   "name": "python",
   "nbconvert_exporter": "python",
   "pygments_lexer": "ipython3",
   "version": "3.9.16"
  },
  "widgets": {
   "application/vnd.jupyter.widget-state+json": {
    "state": {},
    "version_major": 2,
    "version_minor": 0
   }
  }
 },
 "nbformat": 4,
 "nbformat_minor": 5
}
